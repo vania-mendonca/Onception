{
 "cells": [
  {
   "cell_type": "code",
   "execution_count": null,
   "metadata": {},
   "outputs": [],
   "source": [
    "from pathlib import Path # only supported in Python 3\n",
    "from prism import Prism\n",
    "from tqdm import tqdm\n",
    "\n",
    "from io_utils import *"
   ]
  },
  {
   "cell_type": "code",
   "execution_count": null,
   "metadata": {},
   "outputs": [],
   "source": [
    "# MT params\n",
    "\n",
    "src_lang = \"zh\"\n",
    "mt_lang = \"en\"\n",
    "\n",
    "lang = src_lang + \"-\" + mt_lang\n",
    "task = \"WMT20_pSQM\" # \"WMT20_pSQM\" # \"WMT19\"\n",
    "\n",
    "data_folder = Path(\"datasets/{}/{}/\".format(task, lang))\n",
    "prism_folder = 'prismmodel/m39v1/'"
   ]
  },
  {
   "cell_type": "code",
   "execution_count": null,
   "metadata": {},
   "outputs": [],
   "source": [
    "corpus_filepath = data_folder / \"{}.pickle\".format(lang)\n",
    "full_corpus = load_dataframe_from_pickle(corpus_filepath)\n",
    "\n",
    "full_corpus.head()"
   ]
  },
  {
   "cell_type": "code",
   "execution_count": null,
   "metadata": {},
   "outputs": [],
   "source": [
    "prism_model = Prism(model_dir=prism_folder, lang=mt_lang)\n",
    "\n",
    "print(\"Done.\")"
   ]
  },
  {
   "cell_type": "code",
   "execution_count": null,
   "metadata": {},
   "outputs": [],
   "source": [
    "full_corpus['prism_score'] = [prism_model.score(cand=[mt], src=[src], segment_scores=True)[0] for src, mt in tqdm(zip(full_corpus['src'], full_corpus['mt']))]\n",
    "   \n",
    "\n",
    "print(\"Done.\")"
   ]
  },
  {
   "cell_type": "code",
   "execution_count": null,
   "metadata": {},
   "outputs": [],
   "source": [
    "full_corpus.head()"
   ]
  },
  {
   "cell_type": "code",
   "execution_count": null,
   "metadata": {},
   "outputs": [],
   "source": [
    "csv_filepath = data_folder / \"{}_prism.csv\".format(lang)\n",
    "pickle_filepath = data_folder / \"{}_prism.pickle\".format(lang)\n",
    "\n",
    "full_corpus.to_csv(csv_filepath, encoding=\"utf-8\", index=False)\n",
    "full_corpus.to_pickle(pickle_filepath)"
   ]
  },
  {
   "cell_type": "code",
   "execution_count": null,
   "metadata": {},
   "outputs": [],
   "source": [
    "full_corpus_prism = load_dataframe_from_pickle(pickle_filepath)\n",
    "full_corpus_prism.head()"
   ]
  },
  {
   "cell_type": "code",
   "execution_count": null,
   "metadata": {},
   "outputs": [],
   "source": [
    "full_corpus_prism = pd.read_csv(csv_filepath)\n",
    "full_corpus_prism.head()"
   ]
  },
  {
   "cell_type": "code",
   "execution_count": null,
   "metadata": {},
   "outputs": [],
   "source": []
  }
 ],
 "metadata": {
  "kernelspec": {
   "display_name": "ewaal",
   "language": "python",
   "name": "ewaal"
  },
  "language_info": {
   "codemirror_mode": {
    "name": "ipython",
    "version": 3
   },
   "file_extension": ".py",
   "mimetype": "text/x-python",
   "name": "python",
   "nbconvert_exporter": "python",
   "pygments_lexer": "ipython3",
   "version": "3.6.12"
  }
 },
 "nbformat": 4,
 "nbformat_minor": 4
}
