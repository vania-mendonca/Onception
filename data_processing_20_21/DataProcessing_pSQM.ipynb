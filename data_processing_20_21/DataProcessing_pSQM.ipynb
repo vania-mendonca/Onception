{
 "cells": [
  {
   "cell_type": "code",
   "execution_count": 1,
   "metadata": {},
   "outputs": [],
   "source": [
    "from pathlib import Path # only supported in Python 3\n",
    "import pandas as pd\n",
    "import numpy as np\n",
    "import pickle\n",
    "import os\n",
    "\n",
    "from tqdm import tqdm"
   ]
  },
  {
   "cell_type": "code",
   "execution_count": 2,
   "metadata": {},
   "outputs": [],
   "source": [
    "task='psqm_newstest2020'\n",
    "\n",
    "src='en'\n",
    "trg='de'\n",
    "\n",
    "lp_src = src + trg\n",
    "lp = src + '-' + trg"
   ]
  },
  {
   "cell_type": "code",
   "execution_count": null,
   "metadata": {},
   "outputs": [],
   "source": [
    "psqm_df = pd.read_csv(\"input\\{}_{}.tsv\".format(task, lp_src), sep='\\t')\n",
    "psqm_df.head()"
   ]
  },
  {
   "cell_type": "code",
   "execution_count": null,
   "metadata": {},
   "outputs": [],
   "source": [
    "psqm_df.rename(columns = {'seg_id':'sid', 'source':'src', 'target':'mt'}, inplace = True)\n",
    "psqm_df.head(1)"
   ]
  },
  {
   "cell_type": "code",
   "execution_count": null,
   "metadata": {},
   "outputs": [],
   "source": [
    "print(psqm_df.dtypes)\n",
    "\n",
    "#psqm_df['sid'] = psqm_df['sid'].astype(int) # no need\n",
    "psqm_df['src'] = psqm_df['src'].astype('string')\n",
    "psqm_df['mt'] = psqm_df['mt'].astype('string')\n",
    "\n",
    "print(psqm_df.dtypes)"
   ]
  },
  {
   "cell_type": "code",
   "execution_count": null,
   "metadata": {},
   "outputs": [],
   "source": [
    "all_model_names = list(psqm_df.system.unique())\n",
    "all_model_names"
   ]
  },
  {
   "cell_type": "code",
   "execution_count": null,
   "metadata": {},
   "outputs": [],
   "source": [
    "print(len(psqm_df.index))\n",
    "\n",
    "psqm_df.dropna(subset=['src'], inplace=True)\n",
    "\n",
    "print(len(psqm_df.index))\n",
    "\n",
    "psqm_df.dropna(subset=['mt'], inplace=True)\n",
    "\n",
    "print(len(psqm_df.index))\n",
    "\n",
    "psqm_df.drop(psqm_df[psqm_df['src'].map(len) > 1000].index, inplace=True)\n",
    "\n",
    "print(len(psqm_df.index))\n",
    "\n",
    "psqm_df.drop(psqm_df[psqm_df['mt'].map(len) > 1000].index, inplace=True)\n",
    "\n",
    "print(len(psqm_df.index))"
   ]
  },
  {
   "cell_type": "code",
   "execution_count": null,
   "metadata": {},
   "outputs": [],
   "source": [
    "# Compute average scores\n",
    "\n",
    "psqm_df['raw_score'] = 0.0\n",
    "\n",
    "for model in all_model_names:\n",
    "    \n",
    "    print(\"------------------------ {} -----------------------\".format(model))\n",
    "    \n",
    "    for idx in tqdm(list(all_ids)):\n",
    "    \n",
    "        rows = psqm_df.loc[(psqm_df['system'] == model) & (psqm_df['sid'] == idx)]\n",
    "        print(rows['score'])\n",
    "\n",
    "        n_rows = len(rows['score'])\n",
    "        #print(n_rows)\n",
    "\n",
    "        avg_score = np.mean(np.array(rows[['score']]), axis=0)[0]\n",
    "        print(\"avg\", avg_score)\n",
    "\n",
    "        avg_score = avg_score * 100 / 7\n",
    "\n",
    "        #print(\"avg norm\", avg_score)\n",
    "\n",
    "        psqm_df['raw_score'] = np.where((psqm_df['system'] == model) & (psqm_df['sid'] == idx), avg_score, psqm_df['raw_score'])\n",
    "        \n",
    "    \n",
    "psqm_df.head(3)"
   ]
  },
  {
   "cell_type": "code",
   "execution_count": null,
   "metadata": {},
   "outputs": [],
   "source": [
    "psqm_df.drop('rater', axis=1, inplace=True)\n",
    "psqm_df.head(1)"
   ]
  },
  {
   "cell_type": "code",
   "execution_count": null,
   "metadata": {},
   "outputs": [],
   "source": [
    "psqm_df.drop('score', axis=1, inplace=True)\n",
    "psqm_df.head(1)"
   ]
  },
  {
   "cell_type": "code",
   "execution_count": null,
   "metadata": {},
   "outputs": [],
   "source": [
    "print(len(psqm_df.index))\n",
    "\n",
    "psqm_df.drop_duplicates(inplace=True)\n",
    "\n",
    "print(len(psqm_df.index))\n",
    "\n",
    "psqm_df.head(5)"
   ]
  },
  {
   "cell_type": "code",
   "execution_count": null,
   "metadata": {},
   "outputs": [],
   "source": [
    "# placeholder values\n",
    "\n",
    "psqm_df['bleu_score'] = 0\n",
    "psqm_df['comet_score'] = 0\n",
    "\n",
    "psqm_df.head(1)"
   ]
  },
  {
   "cell_type": "markdown",
   "metadata": {},
   "source": [
    "## Print"
   ]
  },
  {
   "cell_type": "code",
   "execution_count": null,
   "metadata": {},
   "outputs": [],
   "source": [
    "final_csv =\"output\\{}.csv\".format(lp)\n",
    "psqm_df.to_csv(final_csv, encoding=\"utf-8\", index=False)"
   ]
  },
  {
   "cell_type": "code",
   "execution_count": null,
   "metadata": {},
   "outputs": [],
   "source": [
    "new_psqm_df = pd.read_csv(final_csv)\n",
    "new_psqm_df.head()"
   ]
  },
  {
   "cell_type": "code",
   "execution_count": 5,
   "metadata": {},
   "outputs": [],
   "source": [
    "final_pickle = \"output\\{}\\{}.pickle\".format(task, lp)"
   ]
  },
  {
   "cell_type": "code",
   "execution_count": null,
   "metadata": {},
   "outputs": [],
   "source": [
    "psqm_df.to_pickle(final_pickle)"
   ]
  },
  {
   "cell_type": "code",
   "execution_count": 6,
   "metadata": {},
   "outputs": [
    {
     "data": {
      "text/html": [
       "<div>\n",
       "<style scoped>\n",
       "    .dataframe tbody tr th:only-of-type {\n",
       "        vertical-align: middle;\n",
       "    }\n",
       "\n",
       "    .dataframe tbody tr th {\n",
       "        vertical-align: top;\n",
       "    }\n",
       "\n",
       "    .dataframe thead th {\n",
       "        text-align: right;\n",
       "    }\n",
       "</style>\n",
       "<table border=\"1\" class=\"dataframe\">\n",
       "  <thead>\n",
       "    <tr style=\"text-align: right;\">\n",
       "      <th></th>\n",
       "      <th>system</th>\n",
       "      <th>doc</th>\n",
       "      <th>doc_id</th>\n",
       "      <th>sid</th>\n",
       "      <th>src</th>\n",
       "      <th>mt</th>\n",
       "      <th>raw_score</th>\n",
       "      <th>bleu_score</th>\n",
       "      <th>comet_score</th>\n",
       "    </tr>\n",
       "  </thead>\n",
       "  <tbody>\n",
       "    <tr>\n",
       "      <th>0</th>\n",
       "      <td>eTranslation.737</td>\n",
       "      <td>independent.281139</td>\n",
       "      <td>1</td>\n",
       "      <td>1</td>\n",
       "      <td>Michael Jackson wore tape on his nose to get f...</td>\n",
       "      <td>Michael Jackson trug Klebeband auf der Nase, u...</td>\n",
       "      <td>61.904762</td>\n",
       "      <td>0</td>\n",
       "      <td>0</td>\n",
       "    </tr>\n",
       "    <tr>\n",
       "      <th>3</th>\n",
       "      <td>Human-A.0</td>\n",
       "      <td>independent.281139</td>\n",
       "      <td>1</td>\n",
       "      <td>1</td>\n",
       "      <td>Michael Jackson wore tape on his nose to get f...</td>\n",
       "      <td>Ehemaliger Bodyguard berichtet: Michael Jackso...</td>\n",
       "      <td>80.952381</td>\n",
       "      <td>0</td>\n",
       "      <td>0</td>\n",
       "    </tr>\n",
       "    <tr>\n",
       "      <th>6</th>\n",
       "      <td>Human-B.0</td>\n",
       "      <td>independent.281139</td>\n",
       "      <td>1</td>\n",
       "      <td>1</td>\n",
       "      <td>Michael Jackson wore tape on his nose to get f...</td>\n",
       "      <td>Ehemaliger Bodyguard behauptet, Michael Jackso...</td>\n",
       "      <td>71.428571</td>\n",
       "      <td>0</td>\n",
       "      <td>0</td>\n",
       "    </tr>\n",
       "    <tr>\n",
       "      <th>9</th>\n",
       "      <td>Human-P.0</td>\n",
       "      <td>independent.281139</td>\n",
       "      <td>1</td>\n",
       "      <td>1</td>\n",
       "      <td>Michael Jackson wore tape on his nose to get f...</td>\n",
       "      <td>Um es aufs Cover zu schaffen, habe Michael Jac...</td>\n",
       "      <td>33.333333</td>\n",
       "      <td>0</td>\n",
       "      <td>0</td>\n",
       "    </tr>\n",
       "    <tr>\n",
       "      <th>12</th>\n",
       "      <td>Huoshan_Translate.832</td>\n",
       "      <td>independent.281139</td>\n",
       "      <td>1</td>\n",
       "      <td>1</td>\n",
       "      <td>Michael Jackson wore tape on his nose to get f...</td>\n",
       "      <td>Michael Jackson trug Klebeband auf der Nase, u...</td>\n",
       "      <td>38.095238</td>\n",
       "      <td>0</td>\n",
       "      <td>0</td>\n",
       "    </tr>\n",
       "  </tbody>\n",
       "</table>\n",
       "</div>"
      ],
      "text/plain": [
       "                   system                 doc  doc_id  sid  \\\n",
       "0        eTranslation.737  independent.281139       1    1   \n",
       "3               Human-A.0  independent.281139       1    1   \n",
       "6               Human-B.0  independent.281139       1    1   \n",
       "9               Human-P.0  independent.281139       1    1   \n",
       "12  Huoshan_Translate.832  independent.281139       1    1   \n",
       "\n",
       "                                                  src  \\\n",
       "0   Michael Jackson wore tape on his nose to get f...   \n",
       "3   Michael Jackson wore tape on his nose to get f...   \n",
       "6   Michael Jackson wore tape on his nose to get f...   \n",
       "9   Michael Jackson wore tape on his nose to get f...   \n",
       "12  Michael Jackson wore tape on his nose to get f...   \n",
       "\n",
       "                                                   mt  raw_score  bleu_score  \\\n",
       "0   Michael Jackson trug Klebeband auf der Nase, u...  61.904762           0   \n",
       "3   Ehemaliger Bodyguard berichtet: Michael Jackso...  80.952381           0   \n",
       "6   Ehemaliger Bodyguard behauptet, Michael Jackso...  71.428571           0   \n",
       "9   Um es aufs Cover zu schaffen, habe Michael Jac...  33.333333           0   \n",
       "12  Michael Jackson trug Klebeband auf der Nase, u...  38.095238           0   \n",
       "\n",
       "    comet_score  \n",
       "0             0  \n",
       "3             0  \n",
       "6             0  \n",
       "9             0  \n",
       "12            0  "
      ]
     },
     "execution_count": 6,
     "metadata": {},
     "output_type": "execute_result"
    }
   ],
   "source": [
    "filepath=Path(final_pickle)\n",
    "\n",
    "data = []\n",
    "with filepath.open('rb') as f:\n",
    "    data = pickle.load(f)\n",
    "\n",
    "new_psqm_df = pd.DataFrame(data)\n",
    "new_psqm_df.head()"
   ]
  },
  {
   "cell_type": "code",
   "execution_count": 8,
   "metadata": {},
   "outputs": [
    {
     "name": "stdout",
     "output_type": "stream",
     "text": [
      "[   1    2    3 ... 1416 1417 1418]\n",
      "1417\n"
     ]
    }
   ],
   "source": [
    "all_ids = new_psqm_df.sid.unique()\n",
    "print(all_ids)\n",
    "print(len(all_ids))"
   ]
  },
  {
   "cell_type": "code",
   "execution_count": 9,
   "metadata": {},
   "outputs": [],
   "source": [
    "with open(\"output\\{}_ids.txt\".format(lp), \"w\") as f:\n",
    "    for el in all_ids:\n",
    "        print(el, file=f)"
   ]
  },
  {
   "cell_type": "code",
   "execution_count": null,
   "metadata": {},
   "outputs": [],
   "source": []
  }
 ],
 "metadata": {
  "kernelspec": {
   "display_name": "ewaal",
   "language": "python",
   "name": "ewaal"
  },
  "language_info": {
   "codemirror_mode": {
    "name": "ipython",
    "version": 3
   },
   "file_extension": ".py",
   "mimetype": "text/x-python",
   "name": "python",
   "nbconvert_exporter": "python",
   "pygments_lexer": "ipython3",
   "version": "3.6.12"
  }
 },
 "nbformat": 4,
 "nbformat_minor": 4
}
