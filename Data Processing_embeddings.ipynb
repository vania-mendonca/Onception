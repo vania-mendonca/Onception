{
 "cells": [
  {
   "cell_type": "markdown",
   "metadata": {},
   "source": [
    "### BERT"
   ]
  },
  {
   "cell_type": "code",
   "execution_count": null,
   "metadata": {},
   "outputs": [],
   "source": [
    "from pathlib import Path # only supported in Python 3\n",
    "\n",
    "from embeddings_utils import *\n",
    "from io_utils import *\n",
    "from nlp_utils import *"
   ]
  },
  {
   "cell_type": "code",
   "execution_count": null,
   "metadata": {},
   "outputs": [],
   "source": [
    "src_lang = \"zh\"\n",
    "mt_lang = \"en\"\n",
    "\n",
    "lang = src_lang + \"-\" + mt_lang\n",
    "task = \"WMT20_pSQM\" # \"WMT20_pSQM\" # \"WMT19\"\n",
    "\n",
    "src = False\n",
    "mt = True"
   ]
  },
  {
   "cell_type": "code",
   "execution_count": null,
   "metadata": {},
   "outputs": [],
   "source": [
    "from bert_serving.client import BertClient"
   ]
  },
  {
   "cell_type": "code",
   "execution_count": null,
   "metadata": {},
   "outputs": [],
   "source": [
    "# load\n",
    "\n",
    "bc = BertClient(check_length=False)\n",
    "embedded = bc.encode(['First do it', 'then do it right', 'then do it better'])\n",
    "print(embedded)"
   ]
  },
  {
   "cell_type": "code",
   "execution_count": null,
   "metadata": {},
   "outputs": [],
   "source": [
    "# # extract\n",
    "\n",
    "corpus_path = Path(\"datasets/{}/{}/{}.pickle\".format(task, lang, lang))\n",
    "\n",
    "print(\"Done.\")"
   ]
  },
  {
   "cell_type": "markdown",
   "metadata": {},
   "source": [
    "#### src embeddings"
   ]
  },
  {
   "cell_type": "code",
   "execution_count": null,
   "metadata": {
    "scrolled": true,
    "tags": []
   },
   "outputs": [],
   "source": [
    "if src: \n",
    "    \n",
    "    embs_src = src_to_embeddings(task, lang, corpus_path, bc)\n",
    "\n",
    "    bert_src_path = Path(\"embeddings/{}/BERT_{}_src_{}.pickle\".format(task, lang, src_lang))\n",
    "    print_to_pickle(embs_src, bert_src_path)\n",
    "\n",
    "    embs_src = load_dict_from_pickle(bert_src_path)\n",
    "\n",
    "    print(embs_src[1].shape)\n",
    "\n",
    "else:\n",
    "    print(\"No, not today\")"
   ]
  },
  {
   "cell_type": "markdown",
   "metadata": {},
   "source": [
    "#### mt embeddings"
   ]
  },
  {
   "cell_type": "code",
   "execution_count": null,
   "metadata": {
    "scrolled": true,
    "tags": []
   },
   "outputs": [],
   "source": [
    "if mt: \n",
    "    \n",
    "    embs_mt = mt_to_embeddings(task, lang, corpus_path, bc)\n",
    "\n",
    "    bert_mt_path = Path(\"embeddings/{}/BERT_{}_mt_{}.pickle\".format(task, lang, mt_lang))\n",
    "    print_to_pickle(embs_mt, bert_mt_path)\n",
    "\n",
    "    embs_mt = load_dict_from_pickle(bert_mt_path)\n",
    "\n",
    "    print(embs_mt['Human-A.0'][1].shape) # zh-en / en-de\n",
    "    print(\"Done.\")\n",
    "    \n",
    "else:\n",
    "    print(\"No, not today\")"
   ]
  },
  {
   "cell_type": "code",
   "execution_count": null,
   "metadata": {},
   "outputs": [],
   "source": []
  }
 ],
 "metadata": {
  "kernelspec": {
   "display_name": "bertservice",
   "language": "python",
   "name": "bertservice"
  },
  "language_info": {
   "codemirror_mode": {
    "name": "ipython",
    "version": 3
   },
   "file_extension": ".py",
   "mimetype": "text/x-python",
   "name": "python",
   "nbconvert_exporter": "python",
   "pygments_lexer": "ipython3",
   "version": "3.6.13"
  }
 },
 "nbformat": 4,
 "nbformat_minor": 4
}
