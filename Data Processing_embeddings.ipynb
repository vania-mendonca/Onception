{
 "cells": [
  {
   "cell_type": "markdown",
   "metadata": {},
   "source": [
    "### BERT"
   ]
  },
  {
   "cell_type": "code",
   "execution_count": null,
   "metadata": {},
   "outputs": [],
   "source": [
    "from pathlib import Path # only supported in Python 3\n",
    "from embeddings_utils import *\n",
    "from io_utils import *\n",
    "from nlp_utils import *"
   ]
  },
  {
   "cell_type": "code",
   "execution_count": null,
   "metadata": {},
   "outputs": [],
   "source": [
    "src_lang = \"lt\"\n",
    "mt_lang = \"en\"\n",
    "\n",
    "lang = src_lang + \"-\" + mt_lang\n",
    "\n",
    "src = True\n",
    "mt = False"
   ]
  },
  {
   "cell_type": "code",
   "execution_count": null,
   "metadata": {},
   "outputs": [],
   "source": [
    "# #debug\n",
    "# #test = \"A government spokesperson said: \\\"We have put forward a precise and credible plan for our future relationship with the EU.\\\"\"\n",
    "# #test = \"His bond has been set at $350,000, the Advocate reports.\"\n",
    "# test = \"Dwyer's opener came in the fourth minute on 3:35 from a Kendall McFaull assist, with David Rutherford providing the assist as Beauvillier doubled the lead four minutes later.\"\n",
    "# test_pp = remove_punctuation(test)\n",
    "# print(test_pp)"
   ]
  },
  {
   "cell_type": "code",
   "execution_count": null,
   "metadata": {},
   "outputs": [],
   "source": [
    "from bert_serving.client import BertClient"
   ]
  },
  {
   "cell_type": "code",
   "execution_count": null,
   "metadata": {},
   "outputs": [],
   "source": [
    "# load\n",
    "\n",
    "bc = BertClient(check_length=False)\n",
    "embedded = bc.encode(['First do it', 'then do it right', 'then do it better'])\n",
    "print(embedded)"
   ]
  },
  {
   "cell_type": "code",
   "execution_count": null,
   "metadata": {},
   "outputs": [],
   "source": [
    "# # extract\n",
    "\n",
    "corpus_path = Path(\"datasets/{}.pickle\".format(lang))\n",
    "\n",
    "print(\"Done.\")"
   ]
  },
  {
   "cell_type": "markdown",
   "metadata": {},
   "source": [
    "#### src embeddings"
   ]
  },
  {
   "cell_type": "code",
   "execution_count": null,
   "metadata": {},
   "outputs": [],
   "source": [
    "if src: \n",
    "    \n",
    "    embs_src = src_to_embeddings(lang, corpus_path, bc)\n",
    "\n",
    "    bert_src_path = Path(\"BERT_{}_src_{}.pickle\".format(lang, src_lang))\n",
    "    print_to_pickle(embs_src, bert_src_path)\n",
    "\n",
    "    embs_src = load_dict_from_pickle(bert_src_path)\n",
    "\n",
    "    print(embs_src[0])\n",
    "\n",
    "else:\n",
    "    print(\"No, not today\")"
   ]
  },
  {
   "cell_type": "markdown",
   "metadata": {},
   "source": [
    "#### mt embeddings"
   ]
  },
  {
   "cell_type": "code",
   "execution_count": null,
   "metadata": {},
   "outputs": [],
   "source": [
    "if mt: \n",
    "    \n",
    "    embs_mt = mt_to_embeddings(lang, corpus_path, bc)\n",
    "\n",
    "    bert_mt_path = Path(\"BERT_{}_mt_{}.pickle\".format(lang, mt_lang))\n",
    "    print_to_pickle(embs_mt, bert_mt_path)\n",
    "\n",
    "    embs_mt = load_dict_from_pickle(bert_mt_path)\n",
    "\n",
    "    print(embs_mt['online-A.0'][965]) # lt-en\n",
    "    #print(\"Done.\")\n",
    "    \n",
    "else:\n",
    "    print(\"No, not today\")"
   ]
  },
  {
   "cell_type": "code",
   "execution_count": null,
   "metadata": {},
   "outputs": [],
   "source": []
  }
 ],
 "metadata": {
  "kernelspec": {
   "display_name": "ewaal",
   "language": "python",
   "name": "ewaal"
  },
  "language_info": {
   "codemirror_mode": {
    "name": "ipython",
    "version": 3
   },
   "file_extension": ".py",
   "mimetype": "text/x-python",
   "name": "python",
   "nbconvert_exporter": "python",
   "pygments_lexer": "ipython3",
   "version": "3.6.12"
  }
 },
 "nbformat": 4,
 "nbformat_minor": 4
}
