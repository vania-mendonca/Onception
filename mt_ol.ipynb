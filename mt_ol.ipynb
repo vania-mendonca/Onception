{
 "cells": [
  {
   "cell_type": "markdown",
   "metadata": {},
   "source": [
    "### Machine Translation with Online Learning"
   ]
  },
  {
   "cell_type": "code",
   "execution_count": null,
   "metadata": {},
   "outputs": [],
   "source": [
    "from pathlib import Path # only supported in Python 3\n",
    "import os\n",
    "import random\n",
    "\n",
    "from io_utils import *\n",
    "from OnlineAlgorithm import *\n",
    "from TaskModel import *\n",
    "\n",
    "print(\"Done.\")"
   ]
  },
  {
   "cell_type": "markdown",
   "metadata": {},
   "source": [
    "#### Parameters"
   ]
  },
  {
   "cell_type": "code",
   "execution_count": null,
   "metadata": {},
   "outputs": [],
   "source": [
    "# EWAF / EXP3 params\n",
    "algorithm = \"EWAF\" #\"EXP3\" # \"EWAF\n",
    "eta_param = 8 # weight update (EWAF)\n",
    "dp = 2 # reward decimal places\n",
    "reward_function = \"human\"\n",
    "# \"human\" \n",
    "# \"human-avg\" \"human-comet\" \"comet\" \"bleu\" (only when using DA scores)\n",
    "\n",
    "# MT params\n",
    "lang = \"en-de\"\n",
    "task = \"WMT20_pSQM\" # \"WMT20_pSQM\" # \"WMT19\"\n",
    "\n",
    "# Setup\n",
    "seed = 1\n",
    "run = str(seed)\n",
    "\n",
    "data_folder = Path(\"datasets/{}/{}/\".format(task, lang))\n",
    "results_folder = Path(\"results/{}/{}/run{}/\".format(task, lang, run))\n",
    "\n",
    "if not os.path.isdir(results_folder.as_posix()):\n",
    "    os.makedirs(results_folder.as_posix())\n",
    "\n",
    "print(\"Done.\")"
   ]
  },
  {
   "cell_type": "markdown",
   "metadata": {},
   "source": [
    "#### Data loading"
   ]
  },
  {
   "cell_type": "code",
   "execution_count": null,
   "metadata": {},
   "outputs": [],
   "source": [
    "learn_sent_ids_filepath = data_folder / \"ids.txt\"\n",
    "shuffled_learn_sent_ids_filepath = data_folder / \"shuf_ids_{}.txt\".format(run)\n",
    "\n",
    "if not os.path.isfile(shuffled_learn_sent_ids_filepath.as_posix()):\n",
    "    \n",
    "    learning_ids = load_int_list_from_txt(learn_sent_ids_filepath)\n",
    "    print(\"First:\", learning_ids[0])\n",
    "    \n",
    "    random.Random(seed).shuffle(learning_ids)\n",
    "    print(\"First:\", learning_ids[0])\n",
    "    print_list_to_txt(learning_ids, shuffled_learn_sent_ids_filepath)\n",
    "    \n",
    "else:\n",
    "    print(\"Already shuffled\")\n",
    "    learning_ids = load_int_list_from_txt(shuffled_learn_sent_ids_filepath)\n",
    "    print(\"First:\", learning_ids[0])\n",
    "\n",
    "print(\"Done.\")"
   ]
  },
  {
   "cell_type": "code",
   "execution_count": null,
   "metadata": {},
   "outputs": [],
   "source": [
    "idx = 'sid'\n",
    "\n",
    "if task == \"WMT19\" and lang == \"en-de\":\n",
    "    idx = 'sent_id'\n",
    "\n",
    "corpus_filepath = data_folder / \"{}.pickle\".format(lang)\n",
    "full_corpus = load_dataframe_from_pickle(corpus_filepath)\n",
    "\n",
    "full_corpus.head(5)"
   ]
  },
  {
   "cell_type": "code",
   "execution_count": null,
   "metadata": {},
   "outputs": [],
   "source": [
    "# DEBUG\n",
    "print(full_corpus.iloc[0])"
   ]
  },
  {
   "cell_type": "code",
   "execution_count": null,
   "metadata": {},
   "outputs": [],
   "source": [
    "all_model_names = list(full_corpus.system.unique())\n",
    "all_models = []\n",
    "\n",
    "num_of_models = len(all_model_names)\n",
    "\n",
    "for model_name in all_model_names:\n",
    "    \n",
    "    system_info = full_corpus.loc[full_corpus['system'] == model_name]\n",
    "    #print(system_info)\n",
    "    \n",
    "    translations = dict(zip(system_info[idx], system_info['mt']))\n",
    "    human_scores = dict(zip(system_info[idx], system_info['raw_score']))\n",
    "    bleu_scores = dict(zip(system_info[idx], system_info['bleu_score']))\n",
    "    comet_scores = dict(zip(system_info[idx], system_info['comet_score']))\n",
    "    \n",
    "    model = TaskModel(model_name, translations, human_scores, bleu_scores, comet_scores, num_of_models, reward_function)\n",
    "    all_models.append(model)\n",
    "    \n",
    "    print(model)\n",
    "    "
   ]
  },
  {
   "cell_type": "code",
   "execution_count": null,
   "metadata": {},
   "outputs": [],
   "source": [
    "# DEBUG\n",
    "print(all_models[0].get_model_prediction(1))\n",
    "print(all_models[0].get_human_score(1))"
   ]
  },
  {
   "cell_type": "markdown",
   "metadata": {},
   "source": [
    "#### Online Learning process and evaluation"
   ]
  },
  {
   "cell_type": "code",
   "execution_count": null,
   "metadata": {},
   "outputs": [],
   "source": [
    "oa = init_online_algorithm(algorithm, num_of_models, decimal_places=dp, eta_value=eta_param, reward_function=reward_function, seed=seed)\n",
    "print(oa)"
   ]
  },
  {
   "cell_type": "code",
   "execution_count": null,
   "metadata": {},
   "outputs": [],
   "source": [
    "weights_filepath = results_folder / \"weights_{}_{}_{}_{}_run{}.csv\".format(algorithm, reward_function, dp, eta_param, run)\n",
    "\n",
    "# print initial weights\n",
    "models_str = [str(m.model_name) for m in all_models]\n",
    "weights_str = [str(w) for w in oa.weights_as_probabilities]\n",
    "\n",
    "with weights_filepath.open(\"w\", encoding=\"utf8\") as f:\n",
    "    print(','.join(models_str), file=f)\n",
    "    print(','.join(weights_str), file=f)\n"
   ]
  },
  {
   "cell_type": "code",
   "execution_count": null,
   "metadata": {
    "scrolled": true
   },
   "outputs": [],
   "source": [
    "t = 1\n",
    "\n",
    "for sent_id in learning_ids:\n",
    "\n",
    "    print(\" ------------------------- ITERATION {} -------------------------\".format(t))  \n",
    "\n",
    "    f_prediction = oa.forecaster(all_models, params=sent_id)\n",
    "    print(f_prediction)\n",
    "\n",
    "    oa.update(all_models, t, params=sent_id)\n",
    "\n",
    "    ### print weights\n",
    "    weights_str = [str(w) for w in oa.weights_as_probabilities]    \n",
    "    with weights_filepath.open(\"a\", encoding=\"utf8\") as f:\n",
    "        print(','.join(weights_str), file=f)\n",
    "\n",
    "    t = t + 1\n",
    "\n",
    "print(\"Done.\")"
   ]
  },
  {
   "cell_type": "code",
   "execution_count": null,
   "metadata": {},
   "outputs": [],
   "source": []
  }
 ],
 "metadata": {
  "kernelspec": {
   "display_name": "ewaal",
   "language": "python",
   "name": "ewaal"
  },
  "language_info": {
   "codemirror_mode": {
    "name": "ipython",
    "version": 3
   },
   "file_extension": ".py",
   "mimetype": "text/x-python",
   "name": "python",
   "nbconvert_exporter": "python",
   "pygments_lexer": "ipython3",
   "version": "3.6.12"
  }
 },
 "nbformat": 4,
 "nbformat_minor": 4
}
